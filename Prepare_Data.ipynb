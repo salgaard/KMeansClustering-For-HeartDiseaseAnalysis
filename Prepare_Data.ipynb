{
 "cells": [
  {
   "cell_type": "markdown",
   "metadata": {},
   "source": [
    "# Grupper patienter med unsupervised clustering med k-means"
   ]
  },
  {
   "cell_type": "markdown",
   "metadata": {},
   "source": [
    "## Hent data fra kaggle og put det i dataframes\n",
    "\n",
    "https://www.kaggle.com/competitions/k-means-clustering-for-heart-disease-analysis/data"
   ]
  },
  {
   "cell_type": "code",
   "execution_count": 1,
   "metadata": {},
   "outputs": [
    {
     "name": "stdout",
     "output_type": "stream",
     "text": [
      "<class 'pandas.core.frame.DataFrame'>\n",
      "RangeIndex: 920 entries, 0 to 919\n",
      "Data columns (total 15 columns):\n",
      " #   Column    Non-Null Count  Dtype  \n",
      "---  ------    --------------  -----  \n",
      " 0   id        920 non-null    int64  \n",
      " 1   age       920 non-null    int64  \n",
      " 2   sex       920 non-null    object \n",
      " 3   dataset   920 non-null    object \n",
      " 4   cp        920 non-null    object \n",
      " 5   trestbps  861 non-null    float64\n",
      " 6   chol      890 non-null    float64\n",
      " 7   fbs       830 non-null    object \n",
      " 8   restecg   918 non-null    object \n",
      " 9   thalch    865 non-null    float64\n",
      " 10  exang     865 non-null    object \n",
      " 11  oldpeak   858 non-null    float64\n",
      " 12  slope     611 non-null    object \n",
      " 13  ca        309 non-null    float64\n",
      " 14  thal      434 non-null    object \n",
      "dtypes: float64(5), int64(2), object(8)\n",
      "memory usage: 107.9+ KB\n"
     ]
    }
   ],
   "source": [
    "import pandas as pd\n",
    "import numpy as np\n",
    "import matplotlib.pyplot as plt\n",
    "from sklearn.preprocessing import OrdinalEncoder\n",
    "\n",
    "data = pd.read_csv('data/heart_disease.csv')\n",
    "\n",
    "data.info()"
   ]
  },
  {
   "cell_type": "markdown",
   "metadata": {},
   "source": [
    "# Ryd op i data\n",
    "\n",
    "fjern alle rows med nan data, da det vil ødelægge vores resultater. Jeg har tænkt at der måske er bedre måder at gøre det på. måske at bare fjerne den colonne med mange nan, eller på en måde fylde det ud med mock data af samme statiske frekvens som fyldt data, Dette kaldes for Mean Imputation. Men jeg føler der er for mange faktorer i dataen til at jeg kan gøre det, så som hvis de data man fylder ind har en direkte relation til noget andet data, og det ikke bliver reflekteret i den tilfældigt indsatte data. Da vi har med medicinsk data, tænker jeg at det er yderst vigtigt at data'en er korrekt. At indsætte noget tilfældig data ville ikke være hensigtsmæssigt i denne sammenhæng, også selv om vi får betydeligt færre samples.\n",
    "\n",
    "dropper også id da den ikke har betydning for dataen."
   ]
  },
  {
   "cell_type": "markdown",
   "metadata": {},
   "source": [
    "### Gammel måde hvor jeg droppede alle subjects med manglende værdier:"
   ]
  },
  {
   "cell_type": "code",
   "execution_count": 2,
   "metadata": {},
   "outputs": [],
   "source": [
    "#GAMMEL MÅDE\n",
    "#\n",
    "\n",
    "#data = data.dropna()\n",
    "#data = data.drop('id', axis=1)\n",
    "\n",
    "#data.to_csv('data/heart_disease_filtered.csv', index=False)\n",
    "\n",
    "#print(data['age'].count())"
   ]
  },
  {
   "cell_type": "markdown",
   "metadata": {},
   "source": [
    "Jeg har kørt det hele med alt null data droppet.\n",
    "Men jeg kan vurdere at der ikke er nok data til at træne og teste modellen.\n",
    "\n",
    "Jeg bliver nødt til at indsætte data så godt jeg kan, for at få et dybere datasæt."
   ]
  },
  {
   "cell_type": "markdown",
   "metadata": {},
   "source": [
    "### Anden gammel måde hvor jeg udskifter alle manglende værdier\n",
    "med en default værdi af 0 for tal og \"Not known\" for strings. det vil svare til at lave en ny kategori som hedder \"Not known\" og 0 i forhold til vores clustering. Det er bedre end at indsætte tilfældige værdier, fordi det ville forvringe resultatet. Det kunne også hjælpe lægerne på en eller anden måde tænker jeg, at have en kategori for sig selv til dem de ikke har data nok på.\n",
    "\n",
    "Der er muligvis et problem i at lave Boolean manglende værdi om til \"not known\". som jeg normalisere dataen kommer det til at blive 0,1,2 kategorier for true of false værdier. Men jeg kan ikke forstille mig at bruge tilfældige værdier i stedet for... men måske det er bedre."
   ]
  },
  {
   "cell_type": "code",
   "execution_count": 3,
   "metadata": {},
   "outputs": [],
   "source": [
    "\n",
    "# data = data.drop('id', axis=1)\n",
    "# data.isna().sum()"
   ]
  },
  {
   "cell_type": "code",
   "execution_count": 4,
   "metadata": {},
   "outputs": [],
   "source": [
    "# for col in data:\n",
    "#     if data[col].dtype == 'object':\n",
    "#         data[col].fillna('Not known', inplace=True)\n",
    "#     if data[col].dtype == 'int64':\n",
    "#         data[col].fillna(data[col].mode()[0],inplace=True)\n",
    "#     if data[col].dtype == 'float64':\n",
    "#         data[col].fillna(data[col].mean(),inplace=True)\n",
    "        \n",
    "# data.isna().sum()"
   ]
  },
  {
   "cell_type": "markdown",
   "metadata": {},
   "source": [
    "drop id kolonnen.\n",
    "\n",
    "se hvor mange manglende værdier der er i de forskellige kolonner."
   ]
  },
  {
   "cell_type": "code",
   "execution_count": 5,
   "metadata": {},
   "outputs": [
    {
     "data": {
      "text/plain": [
       "age           0\n",
       "sex           0\n",
       "dataset       0\n",
       "cp            0\n",
       "trestbps     59\n",
       "chol         30\n",
       "fbs          90\n",
       "restecg       2\n",
       "thalch       55\n",
       "exang        55\n",
       "oldpeak      62\n",
       "slope       309\n",
       "ca          611\n",
       "thal        486\n",
       "dtype: int64"
      ]
     },
     "execution_count": 5,
     "metadata": {},
     "output_type": "execute_result"
    }
   ],
   "source": [
    "data = data.drop('id', axis=1)\n",
    "data.isna().sum()"
   ]
  },
  {
   "cell_type": "markdown",
   "metadata": {},
   "source": [
    "## Visualiser Numeriske Data\n",
    "\n",
    "visualiserer data for at få indsigt i hvordan jeg bedst kan håndtere manglende værdier."
   ]
  },
  {
   "cell_type": "code",
   "execution_count": 6,
   "metadata": {},
   "outputs": [
    {
     "data": {
      "image/png": "[encoded data removed]",
      "text/plain": [
       "<Figure size 640x480 with 1 Axes>"
      ]
     },
     "metadata": {},
     "output_type": "display_data"
    },
    {
     "data": {
      "image/png": "[encoded data removed]",
      "text/plain": [
       "<Figure size 640x480 with 1 Axes>"
      ]
     },
     "metadata": {},
     "output_type": "display_data"
    },
    {
     "data": {
      "image/png": "[encoded data removed]",
      "text/plain": [
       "<Figure size 640x480 with 1 Axes>"
      ]
     },
     "metadata": {},
     "output_type": "display_data"
    },
    {
     "data": {
      "image/png": "[encoded data removed]",
      "text/plain": [
       "<Figure size 640x480 with 1 Axes>"
      ]
     },
     "metadata": {},
     "output_type": "display_data"
    },
    {
     "data": {
      "image/png": "[encoded data removed]",
      "text/plain": [
       "<Figure size 640x480 with 1 Axes>"
      ]
     },
     "metadata": {},
     "output_type": "display_data"
    }
   ],
   "source": [
    "num_col = ['trestbps','chol', 'thalch','oldpeak','ca']\n",
    "for col in num_col:\n",
    "    plt.hist(data[col], bins='auto', edgecolor='black')\n",
    "    plt.title(col)\n",
    "    plt.show()"
   ]
  },
  {
   "cell_type": "markdown",
   "metadata": {},
   "source": [
    "## Visualiser Kategoriske Data"
   ]
  },
  {
   "cell_type": "code",
   "execution_count": 7,
   "metadata": {},
   "outputs": [
    {
     "data": {
      "image/png": "[encoded data removed]",
      "text/plain": [
       "<Figure size 640x480 with 1 Axes>"
      ]
     },
     "metadata": {},
     "output_type": "display_data"
    },
    {
     "data": {
      "image/png": "[encoded data removed]",
      "text/plain": [
       "<Figure size 640x480 with 1 Axes>"
      ]
     },
     "metadata": {},
     "output_type": "display_data"
    },
    {
     "data": {
      "image/png": "[encoded data removed]",
      "text/plain": [
       "<Figure size 640x480 with 1 Axes>"
      ]
     },
     "metadata": {},
     "output_type": "display_data"
    },
    {
     "data": {
      "image/png": "[encoded data removed]",
      "text/plain": [
       "<Figure size 640x480 with 1 Axes>"
      ]
     },
     "metadata": {},
     "output_type": "display_data"
    },
    {
     "data": {
      "image/png": "[encoded data removed]",
      "text/plain": [
       "<Figure size 640x480 with 1 Axes>"
      ]
     },
     "metadata": {},
     "output_type": "display_data"
    }
   ],
   "source": [
    "cat_col = ['fbs','exang','slope','thal','restecg']\n",
    "for col in cat_col:\n",
    "    catcol_counts = data[col].value_counts()\n",
    "\n",
    "    plt.pie(catcol_counts.values, labels=catcol_counts.index, autopct='%1.1f%%')\n",
    "\n",
    "    plt.title(col)\n",
    "\n",
    "    plt.show()"
   ]
  },
  {
   "cell_type": "markdown",
   "metadata": {},
   "source": [
    "## Indsæt værdier\n",
    "\n",
    "Indsætter værdier hvor der er manglende værdier, i stedet for at droppe rows, for at få et større sæt."
   ]
  },
  {
   "cell_type": "markdown",
   "metadata": {},
   "source": [
    "exang og fbs er bools så der er det måske bedst at fylde manglende værdier ud med random true/false."
   ]
  },
  {
   "cell_type": "code",
   "execution_count": 8,
   "metadata": {},
   "outputs": [
    {
     "data": {
      "text/plain": [
       "fbs      0\n",
       "exang    0\n",
       "dtype: int64"
      ]
     },
     "execution_count": 8,
     "metadata": {},
     "output_type": "execute_result"
    }
   ],
   "source": [
    "columns_to_impute = ['fbs', 'exang']\n",
    "\n",
    "for column in columns_to_impute:\n",
    "    if data[column].isnull().any():\n",
    "        missing_indices = data[data[column].isnull()].index\n",
    "        random_values = np.random.choice([True, False], size=len(missing_indices))\n",
    "        data.loc[missing_indices, column] = random_values\n",
    "\n",
    "data[columns_to_impute].isna().sum()"
   ]
  },
  {
   "cell_type": "markdown",
   "metadata": {},
   "source": [
    "slope og thal har mange manglende værdier og mere end 2 kategorier, så derfor kan det være en god ide at tilføje en ny kategori ('NotKnown')."
   ]
  },
  {
   "cell_type": "code",
   "execution_count": 9,
   "metadata": {},
   "outputs": [
    {
     "data": {
      "text/plain": [
       "slope    0\n",
       "thal     0\n",
       "dtype: int64"
      ]
     },
     "execution_count": 9,
     "metadata": {},
     "output_type": "execute_result"
    }
   ],
   "source": [
    "columns_to_impute = ['slope', 'thal']\n",
    "\n",
    "for column in columns_to_impute:\n",
    "    if data[column].isnull().any():\n",
    "        data[column].fillna('NotKnown', inplace=True)\n",
    "\n",
    "data[columns_to_impute].isna().sum()"
   ]
  },
  {
   "cell_type": "markdown",
   "metadata": {},
   "source": [
    "restecg har kun 2 manglende værdier, så der indsætter vi bare den værdi som der er størst frekvens af i kolonnen('normal')"
   ]
  },
  {
   "cell_type": "code",
   "execution_count": 10,
   "metadata": {},
   "outputs": [
    {
     "data": {
      "text/plain": [
       "restecg    0\n",
       "dtype: int64"
      ]
     },
     "execution_count": 10,
     "metadata": {},
     "output_type": "execute_result"
    }
   ],
   "source": [
    "columns_to_impute = ['restecg']\n",
    "for column in columns_to_impute:\n",
    "    if data[column].isnull().any():\n",
    "        data[column].fillna('normal', inplace=True)\n",
    "\n",
    "data[columns_to_impute].isna().sum()"
   ]
  },
  {
   "cell_type": "markdown",
   "metadata": {},
   "source": [
    "Numeriske manglende værdier kan fyldes ud med gennemsnitsværdien af tilstedeværende værdier."
   ]
  },
  {
   "cell_type": "code",
   "execution_count": 11,
   "metadata": {},
   "outputs": [
    {
     "data": {
      "text/plain": [
       "trestbps    0\n",
       "chol        0\n",
       "thalch      0\n",
       "oldpeak     0\n",
       "ca          0\n",
       "dtype: int64"
      ]
     },
     "execution_count": 11,
     "metadata": {},
     "output_type": "execute_result"
    }
   ],
   "source": [
    "columns_to_impute = ['trestbps','chol', 'thalch','oldpeak','ca']\n",
    "\n",
    "for column in columns_to_impute:\n",
    "    if data[column].isnull().any():\n",
    "        mean_value = data[column].mean()\n",
    "        data[column].fillna(mean_value, inplace=True)\n",
    "\n",
    "data[columns_to_impute].isna().sum()"
   ]
  },
  {
   "cell_type": "markdown",
   "metadata": {},
   "source": [
    "ingen manglende værdier tilbage i sættet, og jeg har ikke droppet nogle rows. Det er brugbart da jeg så har meget mere data at træne modellen ud fra. Datasættet er ikke så stort at jeg bare kan fjerne rows med manglende værdier. \n",
    "\n",
    "Hvis datasættet var meget større, kunne det måske være bedre at fjerne i stedet for at indsætte værdier, da indsatte værdier kan give et forvrænget resultat. Dog er det vigtigere i dette tilfælde at have mere data, da sættet er så lille."
   ]
  },
  {
   "cell_type": "code",
   "execution_count": 12,
   "metadata": {},
   "outputs": [
    {
     "data": {
      "text/plain": [
       "age         0\n",
       "sex         0\n",
       "dataset     0\n",
       "cp          0\n",
       "trestbps    0\n",
       "chol        0\n",
       "fbs         0\n",
       "restecg     0\n",
       "thalch      0\n",
       "exang       0\n",
       "oldpeak     0\n",
       "slope       0\n",
       "ca          0\n",
       "thal        0\n",
       "dtype: int64"
      ]
     },
     "execution_count": 12,
     "metadata": {},
     "output_type": "execute_result"
    }
   ],
   "source": [
    "data.isna().sum()"
   ]
  },
  {
   "cell_type": "markdown",
   "metadata": {},
   "source": [
    "## Label Encode Kategoriske Data\n",
    "\n",
    "Laver kategoriske string data om til numeriske kategorier i stedet, fordi det er bedre at træne modellen med."
   ]
  },
  {
   "cell_type": "code",
   "execution_count": 13,
   "metadata": {},
   "outputs": [
    {
     "name": "stdout",
     "output_type": "stream",
     "text": [
      "age int64\n",
      "sex object\n",
      "dataset object\n",
      "cp object\n",
      "trestbps float64\n",
      "chol float64\n",
      "fbs object\n",
      "restecg object\n",
      "thalch float64\n",
      "exang object\n",
      "oldpeak float64\n",
      "slope object\n",
      "ca float64\n",
      "thal object\n"
     ]
    }
   ],
   "source": [
    "for col in data:\n",
    "    print(col, data[col].dtype)"
   ]
  },
  {
   "cell_type": "code",
   "execution_count": 14,
   "metadata": {},
   "outputs": [
    {
     "data": {
      "text/html": [
       "<div>\n",
       "<style scoped>\n",
       "    .dataframe tbody tr th:only-of-type {\n",
       "        vertical-align: middle;\n",
       "    }\n",
       "\n",
       "    .dataframe tbody tr th {\n",
       "        vertical-align: top;\n",
       "    }\n",
       "\n",
       "    .dataframe thead th {\n",
       "        text-align: right;\n",
       "    }\n",
       "</style>\n",
       "<table border=\"1\" class=\"dataframe\">\n",
       "  <thead>\n",
       "    <tr style=\"text-align: right;\">\n",
       "      <th></th>\n",
       "      <th>age</th>\n",
       "      <th>sex</th>\n",
       "      <th>dataset</th>\n",
       "      <th>cp</th>\n",
       "      <th>trestbps</th>\n",
       "      <th>chol</th>\n",
       "      <th>fbs</th>\n",
       "      <th>restecg</th>\n",
       "      <th>thalch</th>\n",
       "      <th>exang</th>\n",
       "      <th>oldpeak</th>\n",
       "      <th>slope</th>\n",
       "      <th>ca</th>\n",
       "      <th>thal</th>\n",
       "    </tr>\n",
       "  </thead>\n",
       "  <tbody>\n",
       "    <tr>\n",
       "      <th>0</th>\n",
       "      <td>63</td>\n",
       "      <td>Male</td>\n",
       "      <td>Cleveland</td>\n",
       "      <td>typical angina</td>\n",
       "      <td>145.000000</td>\n",
       "      <td>233.0</td>\n",
       "      <td>True</td>\n",
       "      <td>lv hypertrophy</td>\n",
       "      <td>150.000000</td>\n",
       "      <td>False</td>\n",
       "      <td>2.300000</td>\n",
       "      <td>downsloping</td>\n",
       "      <td>0.000000</td>\n",
       "      <td>fixed defect</td>\n",
       "    </tr>\n",
       "    <tr>\n",
       "      <th>1</th>\n",
       "      <td>67</td>\n",
       "      <td>Male</td>\n",
       "      <td>Cleveland</td>\n",
       "      <td>asymptomatic</td>\n",
       "      <td>160.000000</td>\n",
       "      <td>286.0</td>\n",
       "      <td>False</td>\n",
       "      <td>lv hypertrophy</td>\n",
       "      <td>108.000000</td>\n",
       "      <td>True</td>\n",
       "      <td>1.500000</td>\n",
       "      <td>flat</td>\n",
       "      <td>3.000000</td>\n",
       "      <td>normal</td>\n",
       "    </tr>\n",
       "    <tr>\n",
       "      <th>2</th>\n",
       "      <td>67</td>\n",
       "      <td>Male</td>\n",
       "      <td>Cleveland</td>\n",
       "      <td>asymptomatic</td>\n",
       "      <td>120.000000</td>\n",
       "      <td>229.0</td>\n",
       "      <td>False</td>\n",
       "      <td>lv hypertrophy</td>\n",
       "      <td>129.000000</td>\n",
       "      <td>True</td>\n",
       "      <td>2.600000</td>\n",
       "      <td>flat</td>\n",
       "      <td>2.000000</td>\n",
       "      <td>reversable defect</td>\n",
       "    </tr>\n",
       "    <tr>\n",
       "      <th>3</th>\n",
       "      <td>37</td>\n",
       "      <td>Male</td>\n",
       "      <td>Cleveland</td>\n",
       "      <td>non-anginal</td>\n",
       "      <td>130.000000</td>\n",
       "      <td>250.0</td>\n",
       "      <td>False</td>\n",
       "      <td>normal</td>\n",
       "      <td>187.000000</td>\n",
       "      <td>False</td>\n",
       "      <td>3.500000</td>\n",
       "      <td>downsloping</td>\n",
       "      <td>0.000000</td>\n",
       "      <td>normal</td>\n",
       "    </tr>\n",
       "    <tr>\n",
       "      <th>4</th>\n",
       "      <td>41</td>\n",
       "      <td>Female</td>\n",
       "      <td>Cleveland</td>\n",
       "      <td>atypical angina</td>\n",
       "      <td>130.000000</td>\n",
       "      <td>204.0</td>\n",
       "      <td>False</td>\n",
       "      <td>lv hypertrophy</td>\n",
       "      <td>172.000000</td>\n",
       "      <td>False</td>\n",
       "      <td>1.400000</td>\n",
       "      <td>upsloping</td>\n",
       "      <td>0.000000</td>\n",
       "      <td>normal</td>\n",
       "    </tr>\n",
       "    <tr>\n",
       "      <th>...</th>\n",
       "      <td>...</td>\n",
       "      <td>...</td>\n",
       "      <td>...</td>\n",
       "      <td>...</td>\n",
       "      <td>...</td>\n",
       "      <td>...</td>\n",
       "      <td>...</td>\n",
       "      <td>...</td>\n",
       "      <td>...</td>\n",
       "      <td>...</td>\n",
       "      <td>...</td>\n",
       "      <td>...</td>\n",
       "      <td>...</td>\n",
       "      <td>...</td>\n",
       "    </tr>\n",
       "    <tr>\n",
       "      <th>915</th>\n",
       "      <td>54</td>\n",
       "      <td>Female</td>\n",
       "      <td>VA Long Beach</td>\n",
       "      <td>asymptomatic</td>\n",
       "      <td>127.000000</td>\n",
       "      <td>333.0</td>\n",
       "      <td>True</td>\n",
       "      <td>st-t abnormality</td>\n",
       "      <td>154.000000</td>\n",
       "      <td>False</td>\n",
       "      <td>0.000000</td>\n",
       "      <td>NotKnown</td>\n",
       "      <td>0.676375</td>\n",
       "      <td>NotKnown</td>\n",
       "    </tr>\n",
       "    <tr>\n",
       "      <th>916</th>\n",
       "      <td>62</td>\n",
       "      <td>Male</td>\n",
       "      <td>VA Long Beach</td>\n",
       "      <td>typical angina</td>\n",
       "      <td>132.132404</td>\n",
       "      <td>139.0</td>\n",
       "      <td>False</td>\n",
       "      <td>st-t abnormality</td>\n",
       "      <td>137.545665</td>\n",
       "      <td>True</td>\n",
       "      <td>0.878788</td>\n",
       "      <td>NotKnown</td>\n",
       "      <td>0.676375</td>\n",
       "      <td>NotKnown</td>\n",
       "    </tr>\n",
       "    <tr>\n",
       "      <th>917</th>\n",
       "      <td>55</td>\n",
       "      <td>Male</td>\n",
       "      <td>VA Long Beach</td>\n",
       "      <td>asymptomatic</td>\n",
       "      <td>122.000000</td>\n",
       "      <td>223.0</td>\n",
       "      <td>True</td>\n",
       "      <td>st-t abnormality</td>\n",
       "      <td>100.000000</td>\n",
       "      <td>False</td>\n",
       "      <td>0.000000</td>\n",
       "      <td>NotKnown</td>\n",
       "      <td>0.676375</td>\n",
       "      <td>fixed defect</td>\n",
       "    </tr>\n",
       "    <tr>\n",
       "      <th>918</th>\n",
       "      <td>58</td>\n",
       "      <td>Male</td>\n",
       "      <td>VA Long Beach</td>\n",
       "      <td>asymptomatic</td>\n",
       "      <td>132.132404</td>\n",
       "      <td>385.0</td>\n",
       "      <td>True</td>\n",
       "      <td>lv hypertrophy</td>\n",
       "      <td>137.545665</td>\n",
       "      <td>False</td>\n",
       "      <td>0.878788</td>\n",
       "      <td>NotKnown</td>\n",
       "      <td>0.676375</td>\n",
       "      <td>NotKnown</td>\n",
       "    </tr>\n",
       "    <tr>\n",
       "      <th>919</th>\n",
       "      <td>62</td>\n",
       "      <td>Male</td>\n",
       "      <td>VA Long Beach</td>\n",
       "      <td>atypical angina</td>\n",
       "      <td>120.000000</td>\n",
       "      <td>254.0</td>\n",
       "      <td>False</td>\n",
       "      <td>lv hypertrophy</td>\n",
       "      <td>93.000000</td>\n",
       "      <td>True</td>\n",
       "      <td>0.000000</td>\n",
       "      <td>NotKnown</td>\n",
       "      <td>0.676375</td>\n",
       "      <td>NotKnown</td>\n",
       "    </tr>\n",
       "  </tbody>\n",
       "</table>\n",
       "<p>920 rows × 14 columns</p>\n",
       "</div>"
      ],
      "text/plain": [
       "     age     sex        dataset               cp    trestbps   chol    fbs  \\\n",
       "0     63    Male      Cleveland   typical angina  145.000000  233.0   True   \n",
       "1     67    Male      Cleveland     asymptomatic  160.000000  286.0  False   \n",
       "2     67    Male      Cleveland     asymptomatic  120.000000  229.0  False   \n",
       "3     37    Male      Cleveland      non-anginal  130.000000  250.0  False   \n",
       "4     41  Female      Cleveland  atypical angina  130.000000  204.0  False   \n",
       "..   ...     ...            ...              ...         ...    ...    ...   \n",
       "915   54  Female  VA Long Beach     asymptomatic  127.000000  333.0   True   \n",
       "916   62    Male  VA Long Beach   typical angina  132.132404  139.0  False   \n",
       "917   55    Male  VA Long Beach     asymptomatic  122.000000  223.0   True   \n",
       "918   58    Male  VA Long Beach     asymptomatic  132.132404  385.0   True   \n",
       "919   62    Male  VA Long Beach  atypical angina  120.000000  254.0  False   \n",
       "\n",
       "              restecg      thalch  exang   oldpeak        slope        ca  \\\n",
       "0      lv hypertrophy  150.000000  False  2.300000  downsloping  0.000000   \n",
       "1      lv hypertrophy  108.000000   True  1.500000         flat  3.000000   \n",
       "2      lv hypertrophy  129.000000   True  2.600000         flat  2.000000   \n",
       "3              normal  187.000000  False  3.500000  downsloping  0.000000   \n",
       "4      lv hypertrophy  172.000000  False  1.400000    upsloping  0.000000   \n",
       "..                ...         ...    ...       ...          ...       ...   \n",
       "915  st-t abnormality  154.000000  False  0.000000     NotKnown  0.676375   \n",
       "916  st-t abnormality  137.545665   True  0.878788     NotKnown  0.676375   \n",
       "917  st-t abnormality  100.000000  False  0.000000     NotKnown  0.676375   \n",
       "918    lv hypertrophy  137.545665  False  0.878788     NotKnown  0.676375   \n",
       "919    lv hypertrophy   93.000000   True  0.000000     NotKnown  0.676375   \n",
       "\n",
       "                  thal  \n",
       "0         fixed defect  \n",
       "1               normal  \n",
       "2    reversable defect  \n",
       "3               normal  \n",
       "4               normal  \n",
       "..                 ...  \n",
       "915           NotKnown  \n",
       "916           NotKnown  \n",
       "917       fixed defect  \n",
       "918           NotKnown  \n",
       "919           NotKnown  \n",
       "\n",
       "[920 rows x 14 columns]"
      ]
     },
     "execution_count": 14,
     "metadata": {},
     "output_type": "execute_result"
    }
   ],
   "source": [
    "data"
   ]
  },
  {
   "cell_type": "markdown",
   "metadata": {},
   "source": [
    "#### bruger ordinal encoder fra sklean.preprocessing library"
   ]
  },
  {
   "cell_type": "code",
   "execution_count": 15,
   "metadata": {},
   "outputs": [
    {
     "data": {
      "text/html": [
       "<div>\n",
       "<style scoped>\n",
       "    .dataframe tbody tr th:only-of-type {\n",
       "        vertical-align: middle;\n",
       "    }\n",
       "\n",
       "    .dataframe tbody tr th {\n",
       "        vertical-align: top;\n",
       "    }\n",
       "\n",
       "    .dataframe thead th {\n",
       "        text-align: right;\n",
       "    }\n",
       "</style>\n",
       "<table border=\"1\" class=\"dataframe\">\n",
       "  <thead>\n",
       "    <tr style=\"text-align: right;\">\n",
       "      <th></th>\n",
       "      <th>age</th>\n",
       "      <th>sex</th>\n",
       "      <th>dataset</th>\n",
       "      <th>cp</th>\n",
       "      <th>trestbps</th>\n",
       "      <th>chol</th>\n",
       "      <th>fbs</th>\n",
       "      <th>restecg</th>\n",
       "      <th>thalch</th>\n",
       "      <th>exang</th>\n",
       "      <th>oldpeak</th>\n",
       "      <th>slope</th>\n",
       "      <th>ca</th>\n",
       "      <th>thal</th>\n",
       "    </tr>\n",
       "  </thead>\n",
       "  <tbody>\n",
       "    <tr>\n",
       "      <th>0</th>\n",
       "      <td>63</td>\n",
       "      <td>1.0</td>\n",
       "      <td>0.0</td>\n",
       "      <td>3.0</td>\n",
       "      <td>145.000000</td>\n",
       "      <td>233.0</td>\n",
       "      <td>1.0</td>\n",
       "      <td>0.0</td>\n",
       "      <td>150.000000</td>\n",
       "      <td>0.0</td>\n",
       "      <td>2.300000</td>\n",
       "      <td>1.0</td>\n",
       "      <td>0.000000</td>\n",
       "      <td>1.0</td>\n",
       "    </tr>\n",
       "    <tr>\n",
       "      <th>1</th>\n",
       "      <td>67</td>\n",
       "      <td>1.0</td>\n",
       "      <td>0.0</td>\n",
       "      <td>0.0</td>\n",
       "      <td>160.000000</td>\n",
       "      <td>286.0</td>\n",
       "      <td>0.0</td>\n",
       "      <td>0.0</td>\n",
       "      <td>108.000000</td>\n",
       "      <td>1.0</td>\n",
       "      <td>1.500000</td>\n",
       "      <td>2.0</td>\n",
       "      <td>3.000000</td>\n",
       "      <td>2.0</td>\n",
       "    </tr>\n",
       "    <tr>\n",
       "      <th>2</th>\n",
       "      <td>67</td>\n",
       "      <td>1.0</td>\n",
       "      <td>0.0</td>\n",
       "      <td>0.0</td>\n",
       "      <td>120.000000</td>\n",
       "      <td>229.0</td>\n",
       "      <td>0.0</td>\n",
       "      <td>0.0</td>\n",
       "      <td>129.000000</td>\n",
       "      <td>1.0</td>\n",
       "      <td>2.600000</td>\n",
       "      <td>2.0</td>\n",
       "      <td>2.000000</td>\n",
       "      <td>3.0</td>\n",
       "    </tr>\n",
       "    <tr>\n",
       "      <th>3</th>\n",
       "      <td>37</td>\n",
       "      <td>1.0</td>\n",
       "      <td>0.0</td>\n",
       "      <td>2.0</td>\n",
       "      <td>130.000000</td>\n",
       "      <td>250.0</td>\n",
       "      <td>0.0</td>\n",
       "      <td>1.0</td>\n",
       "      <td>187.000000</td>\n",
       "      <td>0.0</td>\n",
       "      <td>3.500000</td>\n",
       "      <td>1.0</td>\n",
       "      <td>0.000000</td>\n",
       "      <td>2.0</td>\n",
       "    </tr>\n",
       "    <tr>\n",
       "      <th>4</th>\n",
       "      <td>41</td>\n",
       "      <td>0.0</td>\n",
       "      <td>0.0</td>\n",
       "      <td>1.0</td>\n",
       "      <td>130.000000</td>\n",
       "      <td>204.0</td>\n",
       "      <td>0.0</td>\n",
       "      <td>0.0</td>\n",
       "      <td>172.000000</td>\n",
       "      <td>0.0</td>\n",
       "      <td>1.400000</td>\n",
       "      <td>3.0</td>\n",
       "      <td>0.000000</td>\n",
       "      <td>2.0</td>\n",
       "    </tr>\n",
       "    <tr>\n",
       "      <th>...</th>\n",
       "      <td>...</td>\n",
       "      <td>...</td>\n",
       "      <td>...</td>\n",
       "      <td>...</td>\n",
       "      <td>...</td>\n",
       "      <td>...</td>\n",
       "      <td>...</td>\n",
       "      <td>...</td>\n",
       "      <td>...</td>\n",
       "      <td>...</td>\n",
       "      <td>...</td>\n",
       "      <td>...</td>\n",
       "      <td>...</td>\n",
       "      <td>...</td>\n",
       "    </tr>\n",
       "    <tr>\n",
       "      <th>915</th>\n",
       "      <td>54</td>\n",
       "      <td>0.0</td>\n",
       "      <td>3.0</td>\n",
       "      <td>0.0</td>\n",
       "      <td>127.000000</td>\n",
       "      <td>333.0</td>\n",
       "      <td>1.0</td>\n",
       "      <td>2.0</td>\n",
       "      <td>154.000000</td>\n",
       "      <td>0.0</td>\n",
       "      <td>0.000000</td>\n",
       "      <td>0.0</td>\n",
       "      <td>0.676375</td>\n",
       "      <td>0.0</td>\n",
       "    </tr>\n",
       "    <tr>\n",
       "      <th>916</th>\n",
       "      <td>62</td>\n",
       "      <td>1.0</td>\n",
       "      <td>3.0</td>\n",
       "      <td>3.0</td>\n",
       "      <td>132.132404</td>\n",
       "      <td>139.0</td>\n",
       "      <td>0.0</td>\n",
       "      <td>2.0</td>\n",
       "      <td>137.545665</td>\n",
       "      <td>1.0</td>\n",
       "      <td>0.878788</td>\n",
       "      <td>0.0</td>\n",
       "      <td>0.676375</td>\n",
       "      <td>0.0</td>\n",
       "    </tr>\n",
       "    <tr>\n",
       "      <th>917</th>\n",
       "      <td>55</td>\n",
       "      <td>1.0</td>\n",
       "      <td>3.0</td>\n",
       "      <td>0.0</td>\n",
       "      <td>122.000000</td>\n",
       "      <td>223.0</td>\n",
       "      <td>1.0</td>\n",
       "      <td>2.0</td>\n",
       "      <td>100.000000</td>\n",
       "      <td>0.0</td>\n",
       "      <td>0.000000</td>\n",
       "      <td>0.0</td>\n",
       "      <td>0.676375</td>\n",
       "      <td>1.0</td>\n",
       "    </tr>\n",
       "    <tr>\n",
       "      <th>918</th>\n",
       "      <td>58</td>\n",
       "      <td>1.0</td>\n",
       "      <td>3.0</td>\n",
       "      <td>0.0</td>\n",
       "      <td>132.132404</td>\n",
       "      <td>385.0</td>\n",
       "      <td>1.0</td>\n",
       "      <td>0.0</td>\n",
       "      <td>137.545665</td>\n",
       "      <td>0.0</td>\n",
       "      <td>0.878788</td>\n",
       "      <td>0.0</td>\n",
       "      <td>0.676375</td>\n",
       "      <td>0.0</td>\n",
       "    </tr>\n",
       "    <tr>\n",
       "      <th>919</th>\n",
       "      <td>62</td>\n",
       "      <td>1.0</td>\n",
       "      <td>3.0</td>\n",
       "      <td>1.0</td>\n",
       "      <td>120.000000</td>\n",
       "      <td>254.0</td>\n",
       "      <td>0.0</td>\n",
       "      <td>0.0</td>\n",
       "      <td>93.000000</td>\n",
       "      <td>1.0</td>\n",
       "      <td>0.000000</td>\n",
       "      <td>0.0</td>\n",
       "      <td>0.676375</td>\n",
       "      <td>0.0</td>\n",
       "    </tr>\n",
       "  </tbody>\n",
       "</table>\n",
       "<p>920 rows × 14 columns</p>\n",
       "</div>"
      ],
      "text/plain": [
       "     age  sex  dataset   cp    trestbps   chol  fbs  restecg      thalch  \\\n",
       "0     63  1.0      0.0  3.0  145.000000  233.0  1.0      0.0  150.000000   \n",
       "1     67  1.0      0.0  0.0  160.000000  286.0  0.0      0.0  108.000000   \n",
       "2     67  1.0      0.0  0.0  120.000000  229.0  0.0      0.0  129.000000   \n",
       "3     37  1.0      0.0  2.0  130.000000  250.0  0.0      1.0  187.000000   \n",
       "4     41  0.0      0.0  1.0  130.000000  204.0  0.0      0.0  172.000000   \n",
       "..   ...  ...      ...  ...         ...    ...  ...      ...         ...   \n",
       "915   54  0.0      3.0  0.0  127.000000  333.0  1.0      2.0  154.000000   \n",
       "916   62  1.0      3.0  3.0  132.132404  139.0  0.0      2.0  137.545665   \n",
       "917   55  1.0      3.0  0.0  122.000000  223.0  1.0      2.0  100.000000   \n",
       "918   58  1.0      3.0  0.0  132.132404  385.0  1.0      0.0  137.545665   \n",
       "919   62  1.0      3.0  1.0  120.000000  254.0  0.0      0.0   93.000000   \n",
       "\n",
       "     exang   oldpeak  slope        ca  thal  \n",
       "0      0.0  2.300000    1.0  0.000000   1.0  \n",
       "1      1.0  1.500000    2.0  3.000000   2.0  \n",
       "2      1.0  2.600000    2.0  2.000000   3.0  \n",
       "3      0.0  3.500000    1.0  0.000000   2.0  \n",
       "4      0.0  1.400000    3.0  0.000000   2.0  \n",
       "..     ...       ...    ...       ...   ...  \n",
       "915    0.0  0.000000    0.0  0.676375   0.0  \n",
       "916    1.0  0.878788    0.0  0.676375   0.0  \n",
       "917    0.0  0.000000    0.0  0.676375   1.0  \n",
       "918    0.0  0.878788    0.0  0.676375   0.0  \n",
       "919    1.0  0.000000    0.0  0.676375   0.0  \n",
       "\n",
       "[920 rows x 14 columns]"
      ]
     },
     "execution_count": 15,
     "metadata": {},
     "output_type": "execute_result"
    }
   ],
   "source": [
    "enc = OrdinalEncoder()\n",
    "\n",
    "for col in data:\n",
    "    if data[col].dtype == 'object':\n",
    "        data[col] = data[col].astype(str)\n",
    "        data[col] = enc.fit_transform(data[col].values.reshape(-1, 1))\n",
    "        \n",
    "data"
   ]
  },
  {
   "cell_type": "markdown",
   "metadata": {},
   "source": [
    "#### Gem i ny csv fil"
   ]
  },
  {
   "cell_type": "code",
   "execution_count": 16,
   "metadata": {},
   "outputs": [],
   "source": [
    "data.to_csv('data/heart_disease_cleaned.csv', index=False)"
   ]
  }
 ],
 "metadata": {
  "kernelspec": {
   "display_name": "ml-env",
   "language": "python",
   "name": "python3"
  },
  "language_info": {
   "codemirror_mode": {
    "name": "ipython",
    "version": 3
   },
   "file_extension": ".py",
   "mimetype": "text/x-python",
   "name": "python",
   "nbconvert_exporter": "python",
   "pygments_lexer": "ipython3",
   "version": "3.10.13"
  }
 },
 "nbformat": 4,
 "nbformat_minor": 2
}
